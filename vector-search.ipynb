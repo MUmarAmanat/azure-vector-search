{
 "cells": [
  {
   "cell_type": "code",
   "execution_count": 36,
   "metadata": {},
   "outputs": [],
   "source": [
    "import torch\n",
    "import json\n",
    "import os \n",
    "import pdfplumber\n",
    "\n",
    "from InstructorEmbedding import INSTRUCTOR\n",
    "from azure.core.credentials import AzureKeyCredential\n",
    "from azure.search.documents.indexes import SearchIndexClient\n",
    "from azure.search.documents.indexes.models import (\n",
    "    SimpleField,\n",
    "    SearchFieldDataType,\n",
    "    SearchableField,\n",
    "    SearchField,\n",
    "    VectorSearch,\n",
    "    HnswAlgorithmConfiguration,\n",
    "    VectorSearchProfile,\n",
    "    SemanticConfiguration,\n",
    "    SemanticPrioritizedFields,\n",
    "    SemanticField,\n",
    "    SemanticSearch,\n",
    "    SearchIndex\n",
    ")\n",
    "\n",
    "from azure.search.documents import SearchClient\n",
    "from azure.search.documents.models import VectorizedQuery\n"
   ]
  },
  {
   "cell_type": "markdown",
   "metadata": {},
   "source": [
    "### Getting AZ Search Credentials"
   ]
  },
  {
   "cell_type": "code",
   "execution_count": 3,
   "metadata": {},
   "outputs": [],
   "source": [
    "ENDPOINT = os.getenv(\"vs-url\") ## vector search url\n",
    "CREDENTIALS = AzureKeyCredential(os.getenv(\"vs-url\")) ## vector search primary key\n"
   ]
  },
  {
   "cell_type": "code",
   "execution_count": null,
   "metadata": {},
   "outputs": [],
   "source": []
  },
  {
   "cell_type": "markdown",
   "metadata": {},
   "source": [
    "### Reading PDF"
   ]
  },
  {
   "cell_type": "code",
   "execution_count": 19,
   "metadata": {},
   "outputs": [],
   "source": [
    "def pars_pdf(pdf_path: str) -> dict:\n",
    "   text_dict = {}\n",
    "   with pdfplumber.open(pdf_path) as pdf:\n",
    "      text = ''.join(page.extract_text() for page in pdf.pages)\n",
    "   \n",
    "   text_dict['id'] = pdf_path.split(\"\\\\\")[-1].split(\".\")[0] ## file name will be id\n",
    "   text_dict['title'] = text.splitlines()[0] ## title\n",
    "   text_dict['content'] = text\n",
    "   return text_dict"
   ]
  },
  {
   "cell_type": "code",
   "execution_count": null,
   "metadata": {},
   "outputs": [],
   "source": []
  },
  {
   "cell_type": "markdown",
   "metadata": {},
   "source": [
    "### Getting Embedding of PDF"
   ]
  },
  {
   "cell_type": "code",
   "execution_count": 5,
   "metadata": {},
   "outputs": [],
   "source": [
    "# model = NSTRUCTOR('hkunlp/instructor-large') ## run this first time when hugging face embedding model is not saved locally\n",
    "model = torch.load('embedding_model.pth') "
   ]
  },
  {
   "cell_type": "code",
   "execution_count": 6,
   "metadata": {},
   "outputs": [],
   "source": [
    "def get_embedding(content: str) ->list:\n",
    "    embeddings = model.encode([content])\n",
    "    return embeddings.flatten().tolist()"
   ]
  },
  {
   "cell_type": "markdown",
   "metadata": {},
   "source": [
    "### Creating Index"
   ]
  },
  {
   "cell_type": "code",
   "execution_count": 57,
   "metadata": {},
   "outputs": [],
   "source": [
    "# Create a search index\n",
    "index_client = SearchIndexClient(\n",
    "    endpoint=ENDPOINT, credential=CREDENTIALS)\n",
    "## maker sure vector_search_profile_name is same as you define later in VectorSearchProfile\n",
    "fields = [\n",
    "    SimpleField(name=\"id\", type=SearchFieldDataType.String, key=True, sortable=True, filterable=True, facetable=True),\n",
    "    SearchableField(name=\"title\", type=SearchFieldDataType.String),\n",
    "    SearchableField(name=\"content\", type=SearchFieldDataType.String),\n",
    "    SearchField(name=\"contentVector\", type=SearchFieldDataType.Collection(SearchFieldDataType.Single),\n",
    "                searchable=True, vector_search_dimensions=768, vector_search_profile_name=\"pdfHnswProfile\")\n",
    "]"
   ]
  },
  {
   "cell_type": "code",
   "execution_count": 58,
   "metadata": {},
   "outputs": [],
   "source": [
    "# Configure the vector search configuration  \n",
    "vector_search = VectorSearch(\n",
    "    algorithms=[HnswAlgorithmConfiguration(name=\"pdfHnsw\")],\n",
    "    profiles=[ VectorSearchProfile(name=\"pdfHnswProfile\",\n",
    "                                    algorithm_configuration_name=\"pdfHnsw\") ## this name should match with algorithm name\n",
    "                ]\n",
    ")"
   ]
  },
  {
   "cell_type": "code",
   "execution_count": 59,
   "metadata": {},
   "outputs": [],
   "source": [
    "\n",
    "semantic_config = SemanticConfiguration(\n",
    "    name=\"my-semantic-config\",\n",
    "    prioritized_fields=SemanticPrioritizedFields(\n",
    "        title_field=SemanticField(field_name=\"title\")\n",
    "    )\n",
    ")\n",
    "\n",
    "# Create the semantic settings with the configuration\n",
    "semantic_search = SemanticSearch(configurations=[semantic_config])"
   ]
  },
  {
   "cell_type": "code",
   "execution_count": 60,
   "metadata": {},
   "outputs": [
    {
     "name": "stdout",
     "output_type": "stream",
     "text": [
      " pdf_index created\n"
     ]
    }
   ],
   "source": [
    "# Create the search index with the semantic settings\n",
    "index_name = \"pdf_index\"\n",
    "index = SearchIndex(name=index_name, fields=fields,\n",
    "                    vector_search=vector_search, semantic_search=semantic_search)\n",
    "result = index_client.create_or_update_index(index)\n",
    "print(f' {result.name} created')"
   ]
  },
  {
   "cell_type": "code",
   "execution_count": null,
   "metadata": {},
   "outputs": [],
   "source": []
  },
  {
   "cell_type": "markdown",
   "metadata": {},
   "source": [
    "### Upload documents"
   ]
  },
  {
   "cell_type": "code",
   "execution_count": 61,
   "metadata": {},
   "outputs": [
    {
     "name": "stdout",
     "output_type": "stream",
     "text": [
      "10001727.pdf Uploaded\n",
      "10176815.pdf Uploaded\n",
      "10399912.pdf Uploaded\n",
      "11152490.pdf Uploaded\n"
     ]
    }
   ],
   "source": [
    "for file_name in [\"10001727.pdf\", \"10176815.pdf\", \"10399912.pdf\", \"11152490.pdf\"]:\n",
    "    ## parse pdf\n",
    "    pdf_dict = pars_pdf(os.path.join(\"data\", \"input\", file_name))\n",
    "\n",
    "    ## vectorize data\n",
    "    vec_data = {}\n",
    "    vec_data['id'] = pdf_dict['id']\n",
    "    vec_data['title'] = pdf_dict['title']\n",
    "    vec_data['content'] = pdf_dict['content']\n",
    "    vec_data['contentVector'] = get_embedding(pdf_dict[\"content\"])\n",
    "\n",
    "    ## upload to Azure vector store\n",
    "    search_client = SearchClient(endpoint=ENDPOINT, index_name=index_name, credential=CREDENTIALS)\n",
    "    result = search_client.upload_documents(vec_data)\n",
    "    print(f\"{file_name} Uploaded\")  "
   ]
  },
  {
   "cell_type": "code",
   "execution_count": null,
   "metadata": {},
   "outputs": [],
   "source": []
  },
  {
   "cell_type": "markdown",
   "metadata": {},
   "source": [
    "### Vector Search"
   ]
  },
  {
   "cell_type": "code",
   "execution_count": 84,
   "metadata": {},
   "outputs": [],
   "source": [
    "# Pure Vector Search\n",
    "query = \"Resume of aviation engineer\"  \n",
    "  \n",
    "embedding = get_embedding(query)\n",
    "vector_query = VectorizedQuery(vector=embedding, k_nearest_neighbors=5, fields=\"contentVector\")\n",
    "  \n",
    "## searching for vectorized query\n",
    "results = search_client.search(  \n",
    "    search_text=None,   ## None mean we are not searching text at all\n",
    "    vector_queries= [vector_query],\n",
    "    select=[\"id\", \"title\", \"content\"],\n",
    ") "
   ]
  },
  {
   "cell_type": "code",
   "execution_count": 85,
   "metadata": {},
   "outputs": [
    {
     "name": "stdout",
     "output_type": "stream",
     "text": [
      "id = 10176815\n",
      "title = AVIATION ELECTRONICS TECHNICIAN\n",
      "Score: 0.9150263\n",
      "\n",
      "\n",
      "id = 10399912\n",
      "title = HR PERSONNEL ASSISTANT\n",
      "Score: 0.86070436\n",
      "\n",
      "\n",
      "id = 10001727\n",
      "title = SOUS CHEF\n",
      "Score: 0.85298055\n",
      "\n",
      "\n",
      "id = 11152490\n",
      "title = DEPUTY PRINCIPAL\n",
      "Score: 0.844396\n",
      "\n",
      "\n"
     ]
    }
   ],
   "source": [
    "for result in results:  \n",
    "    print(f\"id = {result['id']}\")\n",
    "    print(f\"title = {result['title']}\")\n",
    "    print(f\"Score: {result['@search.score']}\") \n",
    "    print(\"\\n\")"
   ]
  },
  {
   "cell_type": "code",
   "execution_count": null,
   "metadata": {},
   "outputs": [],
   "source": []
  }
 ],
 "metadata": {
  "kernelspec": {
   "display_name": ".venv",
   "language": "python",
   "name": "python3"
  },
  "language_info": {
   "codemirror_mode": {
    "name": "ipython",
    "version": 3
   },
   "file_extension": ".py",
   "mimetype": "text/x-python",
   "name": "python",
   "nbconvert_exporter": "python",
   "pygments_lexer": "ipython3",
   "version": "3.11.0"
  }
 },
 "nbformat": 4,
 "nbformat_minor": 2
}
